{
 "cells": [
  {
   "cell_type": "code",
   "execution_count": 29,
   "metadata": {
    "collapsed": true,
    "pycharm": {
     "name": "#%%\n"
    }
   },
   "outputs": [],
   "source": [
    "import matplotlib.pyplot as plt\n",
    "import numpy as np"
   ]
  },
  {
   "cell_type": "markdown",
   "source": [],
   "metadata": {
    "collapsed": false,
    "pycharm": {
     "name": "#%% md\n"
    }
   }
  },
  {
   "cell_type": "code",
   "execution_count": 125,
   "outputs": [],
   "source": [
    "def rey_num(D, f_w_perim, s=0.014, rho=997, mu=1.002e-3, g=9.81):\n",
    "    alpha = f_w_perim * np.pi\n",
    "    P = alpha * D\n",
    "    A = (np.power(D, 2) / 4) * (alpha - np.sin(2 * alpha) / 2)\n",
    "    D_h = 4 * (A / P)\n",
    "\n",
    "    temp = 2 * g * D_h * s\n",
    "    num = rho * np.power(temp, 4) * D_h\n",
    "    den = np.power(0.316, 4) * mu\n",
    "    v = np.power(num / den, 1 / 7)\n",
    "\n",
    "    re = rho * v * D_h / mu\n",
    "    return re"
   ],
   "metadata": {
    "collapsed": false,
    "pycharm": {
     "name": "#%%\n"
    }
   }
  },
  {
   "cell_type": "code",
   "execution_count": 121,
   "outputs": [],
   "source": [
    "fraction_w_perim = np.arange(0.02, 0.4, 0.01)"
   ],
   "metadata": {
    "collapsed": false,
    "pycharm": {
     "name": "#%%\n"
    }
   }
  },
  {
   "cell_type": "code",
   "execution_count": 172,
   "outputs": [
    {
     "data": {
      "text/plain": "<Figure size 432x288 with 1 Axes>",
      "image/png": "[encoded data removed]"
     },
     "metadata": {
      "needs_background": "light"
     },
     "output_type": "display_data"
    }
   ],
   "source": [
    "plt.figure()\n",
    "plt.yscale('log')\n",
    "plt.plot(fraction_w_perim, rey_num(f_w_perim=fraction_w_perim, D=100 * 1e-3, s=0.014))\n",
    "#plt.plot(fraction_w_perim,rey_num(f_w_perim=fraction_w_perim,D=55*1e-3,s=0.014))\n",
    "plt.xlabel('fraction of wetted perimeter')\n",
    "plt.ylabel('Reynolds number')\n",
    "plt.grid()\n",
    "plt.show()"
   ],
   "metadata": {
    "collapsed": false,
    "pycharm": {
     "name": "#%%\n"
    }
   }
  },
  {
   "cell_type": "code",
   "execution_count": 126,
   "outputs": [],
   "source": [
    "def Re(D_h, s=0.014, rho=997, mu=1.002e-3, g=9.81):\n",
    "    '''\n",
    "    :param D_h: hydraulic diameter\n",
    "    :param s: slope of the tube\n",
    "    :param rho: density of the liquid\n",
    "    :param mu: liquid dynamic viscosity\n",
    "    :param g: standard acceleration due to gravity\n",
    "    :return: Reynolds number\n",
    "    '''\n",
    "\n",
    "    temp = 2 * g * D_h * s\n",
    "    num = rho * np.power(temp, 4) * D_h\n",
    "    den = np.power(0.316, 4) * mu\n",
    "    v = np.power(num / den, 1 / 7)\n",
    "\n",
    "    re = (rho * v * D_h) / mu\n",
    "\n",
    "    return re"
   ],
   "metadata": {
    "collapsed": false,
    "pycharm": {
     "name": "#%%\n"
    }
   }
  },
  {
   "cell_type": "code",
   "execution_count": 129,
   "outputs": [],
   "source": [
    "def mass_flow_no_pipe(f_w_perim, D=100 * 1e-3, s=0.014, rho=997):\n",
    "    '''\n",
    "    :param f_w_perim: fraction of wetted perimeter\n",
    "    :param D: diameter of the outer tube\n",
    "    :param s: slope of the tube\n",
    "    :param rho: liquid density\n",
    "    :return: mass flow kg/m^3 in the case of a tube with no inner pipe\n",
    "    '''\n",
    "\n",
    "    alpha = f_w_perim * np.pi\n",
    "    P = alpha * D\n",
    "    A = (np.power(D, 2) / 4) * (alpha - np.sin(2 * alpha) / 2)\n",
    "    D_h = 4 * (A / P)\n",
    "\n",
    "    f = 0.316 / (Re(D_h=D_h, s=s, rho=rho) ** 0.25)\n",
    "    v = np.sqrt(2 * 9.81 * D_h * s / f)\n",
    "\n",
    "    m = A * v * rho\n",
    "\n",
    "    return m\n"
   ],
   "metadata": {
    "collapsed": false,
    "pycharm": {
     "name": "#%%\n"
    }
   }
  },
  {
   "cell_type": "code",
   "execution_count": 131,
   "outputs": [],
   "source": [
    "m_list = mass_flow_no_pipe(np.arange(0.01, 0.35, 0.01))"
   ],
   "metadata": {
    "collapsed": false,
    "pycharm": {
     "name": "#%%\n"
    }
   }
  },
  {
   "cell_type": "code",
   "execution_count": 132,
   "outputs": [
    {
     "data": {
      "text/plain": "<Figure size 432x288 with 1 Axes>",
      "image/png": "[encoded data removed]"
     },
     "metadata": {
      "needs_background": "light"
     },
     "output_type": "display_data"
    }
   ],
   "source": [
    "plt.figure()\n",
    "plt.plot(np.arange(0.01, 0.35, 0.01), m_list)\n",
    "plt.xlabel('fraction of wetted perimeter')\n",
    "plt.ylabel('mass flow')\n",
    "plt.grid()\n",
    "plt.show()"
   ],
   "metadata": {
    "collapsed": false,
    "pycharm": {
     "name": "#%%\n"
    }
   }
  },
  {
   "cell_type": "code",
   "execution_count": 133,
   "outputs": [],
   "source": [
    "def perimeter_limit_case(D, d):\n",
    "    '''\n",
    "    The function takes in input the outer and the inner diameters, and computes the wetted perimeter when the\n",
    "    depth of the liquid is equal to the diameter of the inner pipe\n",
    "\n",
    "    :param D: outer diameter\n",
    "    :param d: inner pipe diameter\n",
    "    :return: wetted perimeter\n",
    "\n",
    "    '''\n",
    "\n",
    "    y = d\n",
    "    p = np.pi * d\n",
    "    alpha = np.arccos(1 - 2 * y / D)\n",
    "    P = alpha * D\n",
    "\n",
    "    return P + p\n"
   ],
   "metadata": {
    "collapsed": false,
    "pycharm": {
     "name": "#%%\n"
    }
   }
  },
  {
   "cell_type": "code",
   "execution_count": 134,
   "outputs": [],
   "source": [
    "def mass_flow_inner_pipe_high_liquid_level(f_w_perim, D, d, s, rho, g=9.81):\n",
    "    '''\n",
    "    :param f_w_perim: fraction of wetted perimeter\n",
    "    :param D: outer diameter\n",
    "    :param d: inner diameter\n",
    "    :param s: slope of the tube\n",
    "    :param rho: density of the liquid\n",
    "    :param g: standard acceleration due to gravity\n",
    "    :return: mass flow computed for a tube where the depth of thw liquid is higher than the diameter od the inner pipe\n",
    "    '''\n",
    "\n",
    "    p = np.pi * d\n",
    "    P = f_w_perim * (np.pi * D + np.pi * d) - p\n",
    "    alpha = P / D\n",
    "    A = (np.power(D, 2) / 4) * (alpha - np.sin(2 * alpha) / 2)\n",
    "    a = (np.pi / 4) * np.power(d, 2)\n",
    "    A_h = A - a\n",
    "    p_h = P + p\n",
    "    print(p_h == f_w_perim * (np.pi * D + np.pi * d))\n",
    "    D_h = 4 * (A_h / p_h)\n",
    "    f = 0.316 / (Re(D_h=D, s=s, rho=rho) ** 0.25)\n",
    "    v = np.sqrt(2 * g * D_h * s / f)\n",
    "\n",
    "    m = A_h * v * rho\n",
    "    return m\n",
    "\n"
   ],
   "metadata": {
    "collapsed": false,
    "pycharm": {
     "name": "#%%\n"
    }
   }
  },
  {
   "cell_type": "code",
   "execution_count": null,
   "outputs": [],
   "source": [
    "def mass_flow_inner_pipe_low_liquid_level(f_w_perim, D, d, s, rho, g=9.81):\n",
    "    '''\n",
    "    :param f_w_perim: fraction of wetted perimeter\n",
    "    :param D: outer diameter\n",
    "    :param d: inner diameter\n",
    "    :param s: slope of the tube\n",
    "    :param rho: density of the liquid\n",
    "    :param g: standard acceleration due to gravity\n",
    "    :return: mass flow computed for a tube where the depth of thw liquid is less than the diameter od the inner pipe\n",
    "    '''\n",
    "    pass"
   ],
   "metadata": {
    "collapsed": false,
    "pycharm": {
     "name": "#%%\n"
    }
   }
  },
  {
   "cell_type": "code",
   "execution_count": 155,
   "outputs": [],
   "source": [
    "def mass_flow(fraction, D, d=None, s=0.014, rho=997):\n",
    "    '''\n",
    "    The function return the mass flow given the fraction of wetted perimeter\n",
    "    :param fraction: fraction of wetted perimeter\n",
    "    :param D: diameter of the outer tube\n",
    "    :param d: diameter of the inner tube\n",
    "    :param inner_pipe: boolean values -> True=channel with inner pipe , False=channel without inner pipe\n",
    "    :param s: slope of the tube\n",
    "    :param rho: density of the liquid kg/m^3\n",
    "    :return: mass flow kg/s\n",
    "    '''\n",
    "\n",
    "    if d:\n",
    "        limit_case_perimeter = perimeter_limit_case(D=D, d=d)\n",
    "        wetted_perimeter = (np.pi * D + np.pi * d) * fraction\n",
    "        if wetted_perimeter >= limit_case_perimeter:\n",
    "            m = mass_flow_inner_pipe_high_liquid_level(f_w_perim=fraction, D=D, d=d, s=s, rho=rho)\n",
    "        else:\n",
    "            m = mass_flof_inner_pipe_low_liquid_level(f_w_perim=fraction, D=D, d=d, s=s, rho=rho)\n",
    "    else:\n",
    "        m = mass_flow_no_pipe(f_w_perim=fraction, D=D, s=s, rho=rho)\n",
    "\n",
    "    return m"
   ],
   "metadata": {
    "collapsed": false,
    "pycharm": {
     "name": "#%%\n"
    }
   }
  },
  {
   "cell_type": "code",
   "execution_count": 152,
   "outputs": [
    {
     "name": "stdout",
     "output_type": "stream",
     "text": [
      "0.13256885167093432\n",
      "0.1457698991265664\n",
      "True\n"
     ]
    },
    {
     "data": {
      "text/plain": "0.6772188469943552"
     },
     "execution_count": 152,
     "metadata": {},
     "output_type": "execute_result"
    }
   ],
   "source": [
    "w_perim = (0.4)\n",
    "mass_flow(w_perim, D=100 * 1e-3, d=16 * 1e-3)"
   ],
   "metadata": {
    "collapsed": false,
    "pycharm": {
     "name": "#%%\n"
    }
   }
  },
  {
   "cell_type": "markdown",
   "source": [],
   "metadata": {
    "collapsed": false,
    "pycharm": {
     "name": "#%% md\n"
    }
   }
  },
  {
   "cell_type": "code",
   "execution_count": 160,
   "outputs": [],
   "source": [
    "wetted_perimeter_list = np.arange(0.01, 0.4, 0.01)\n",
    "m_list = []"
   ],
   "metadata": {
    "collapsed": false,
    "pycharm": {
     "name": "#%%\n"
    }
   }
  },
  {
   "cell_type": "code",
   "execution_count": 161,
   "outputs": [
    {
     "name": "stdout",
     "output_type": "stream",
     "text": [
      "0.13256885167093432\n",
      "0.00364424747816416\n",
      "the surface perim id greater\n",
      "0.13256885167093432\n",
      "0.00728849495632832\n",
      "the surface perim id greater\n",
      "0.13256885167093432\n",
      "0.010932742434492479\n",
      "the surface perim id greater\n",
      "0.13256885167093432\n",
      "0.01457698991265664\n",
      "the surface perim id greater\n",
      "0.13256885167093432\n",
      "0.0182212373908208\n",
      "the surface perim id greater\n",
      "0.13256885167093432\n",
      "0.02186548486898496\n",
      "the surface perim id greater\n",
      "0.13256885167093432\n",
      "0.025509732347149115\n",
      "the surface perim id greater\n",
      "0.13256885167093432\n",
      "0.02915397982531328\n",
      "the surface perim id greater\n",
      "0.13256885167093432\n",
      "0.03279822730347744\n",
      "the surface perim id greater\n",
      "0.13256885167093432\n",
      "0.036442474781641594\n",
      "the surface perim id greater\n",
      "0.13256885167093432\n",
      "0.04008672225980576\n",
      "the surface perim id greater\n",
      "0.13256885167093432\n",
      "0.043730969737969916\n",
      "the surface perim id greater\n",
      "0.13256885167093432\n",
      "0.04737521721613408\n",
      "the surface perim id greater\n",
      "0.13256885167093432\n",
      "0.051019464694298244\n",
      "the surface perim id greater\n",
      "0.13256885167093432\n",
      "0.05466371217246241\n",
      "the surface perim id greater\n",
      "0.13256885167093432\n",
      "0.05830795965062656\n",
      "the surface perim id greater\n",
      "0.13256885167093432\n",
      "0.06195220712879072\n",
      "the surface perim id greater\n",
      "0.13256885167093432\n",
      "0.06559645460695489\n",
      "the surface perim id greater\n",
      "0.13256885167093432\n",
      "0.06924070208511904\n",
      "the surface perim id greater\n",
      "0.13256885167093432\n",
      "0.0728849495632832\n",
      "the surface perim id greater\n",
      "0.13256885167093432\n",
      "0.07652919704144737\n",
      "the surface perim id greater\n",
      "0.13256885167093432\n",
      "0.08017344451961152\n",
      "the surface perim id greater\n",
      "0.13256885167093432\n",
      "0.08381769199777568\n",
      "the surface perim id greater\n",
      "0.13256885167093432\n",
      "0.08746193947593985\n",
      "the surface perim id greater\n",
      "0.13256885167093432\n",
      "0.091106186954104\n",
      "the surface perim id greater\n",
      "0.13256885167093432\n",
      "0.09475043443226816\n",
      "the surface perim id greater\n",
      "0.13256885167093432\n",
      "0.09839468191043232\n",
      "the surface perim id greater\n",
      "0.13256885167093432\n",
      "0.10203892938859649\n",
      "the surface perim id greater\n",
      "0.13256885167093432\n",
      "0.10568317686676065\n",
      "the surface perim id greater\n",
      "0.13256885167093432\n",
      "0.10932742434492479\n",
      "the surface perim id greater\n",
      "0.13256885167093432\n",
      "0.11297167182308895\n",
      "the surface perim id greater\n",
      "0.13256885167093432\n",
      "0.11661591930125312\n",
      "the surface perim id greater\n",
      "0.13256885167093432\n",
      "0.12026016677941728\n",
      "the surface perim id greater\n",
      "0.13256885167093432\n",
      "0.12390441425758145\n",
      "the surface perim id greater\n",
      "0.13256885167093432\n",
      "0.1275486617357456\n",
      "the surface perim id greater\n",
      "0.13256885167093432\n",
      "0.13119290921390978\n",
      "the surface perim id greater\n",
      "0.13256885167093432\n",
      "0.1348371566920739\n",
      "True\n",
      "0.13256885167093432\n",
      "0.13848140417023808\n",
      "True\n",
      "0.13256885167093432\n",
      "0.14212565164840224\n",
      "True\n"
     ]
    }
   ],
   "source": [
    "for w_p in wetted_perimeter_list:\n",
    "    m_list.append(mass_flow(w_p, D=100 * 1e-3, d=16 * 1e-3))\n"
   ],
   "metadata": {
    "collapsed": false,
    "pycharm": {
     "name": "#%%\n"
    }
   }
  },
  {
   "cell_type": "code",
   "execution_count": 162,
   "outputs": [
    {
     "data": {
      "text/plain": "<Figure size 432x288 with 1 Axes>",
      "image/png": "[encoded data removed]"
     },
     "metadata": {
      "needs_background": "light"
     },
     "output_type": "display_data"
    }
   ],
   "source": [
    "plt.figure()\n",
    "plt.plot(wetted_perimeter_list, m_list)\n",
    "plt.xlabel('fraction of wetted perimeter')\n",
    "plt.ylabel('mass flow')\n",
    "plt.grid()\n",
    "plt.show()"
   ],
   "metadata": {
    "collapsed": false,
    "pycharm": {
     "name": "#%%\n"
    }
   }
  },
  {
   "cell_type": "code",
   "execution_count": null,
   "outputs": [],
   "source": [],
   "metadata": {
    "collapsed": false,
    "pycharm": {
     "name": "#%%\n"
    }
   }
  },
  {
   "cell_type": "code",
   "execution_count": null,
   "outputs": [],
   "source": [],
   "metadata": {
    "collapsed": false,
    "pycharm": {
     "name": "#%%\n"
    }
   }
  },
  {
   "cell_type": "code",
   "execution_count": null,
   "outputs": [],
   "source": [],
   "metadata": {
    "collapsed": false,
    "pycharm": {
     "name": "#%%\n"
    }
   }
  },
  {
   "cell_type": "code",
   "execution_count": null,
   "outputs": [],
   "source": [],
   "metadata": {
    "collapsed": false,
    "pycharm": {
     "name": "#%%\n"
    }
   }
  },
  {
   "cell_type": "code",
   "execution_count": null,
   "outputs": [],
   "source": [],
   "metadata": {
    "collapsed": false,
    "pycharm": {
     "name": "#%%\n"
    }
   }
  },
  {
   "cell_type": "code",
   "execution_count": null,
   "outputs": [],
   "source": [],
   "metadata": {
    "collapsed": false,
    "pycharm": {
     "name": "#%%\n"
    }
   }
  },
  {
   "cell_type": "code",
   "execution_count": null,
   "outputs": [],
   "source": [],
   "metadata": {
    "collapsed": false,
    "pycharm": {
     "name": "#%%\n"
    }
   }
  },
  {
   "cell_type": "code",
   "execution_count": null,
   "outputs": [],
   "source": [],
   "metadata": {
    "collapsed": false,
    "pycharm": {
     "name": "#%%\n"
    }
   }
  },
  {
   "cell_type": "code",
   "execution_count": null,
   "outputs": [],
   "source": [],
   "metadata": {
    "collapsed": false,
    "pycharm": {
     "name": "#%%\n"
    }
   }
  },
  {
   "cell_type": "code",
   "execution_count": null,
   "outputs": [],
   "source": [],
   "metadata": {
    "collapsed": false,
    "pycharm": {
     "name": "#%%\n"
    }
   }
  },
  {
   "cell_type": "code",
   "execution_count": 4,
   "outputs": [],
   "source": [
    "from sympy import solve, sin, cos, pi, Symbol, Eq"
   ],
   "metadata": {
    "collapsed": false,
    "pycharm": {
     "name": "#%%\n"
    }
   }
  },
  {
   "cell_type": "code",
   "execution_count": 5,
   "outputs": [],
   "source": [
    "alpha = Symbol('alpha cos(alpha)')"
   ],
   "metadata": {
    "collapsed": false,
    "pycharm": {
     "name": "#%%\n"
    }
   }
  },
  {
   "cell_type": "code",
   "execution_count": 8,
   "outputs": [
    {
     "ename": "NotImplementedError",
     "evalue": "multiple generators [alpha, cos(alpha)]\nNo algorithms are implemented to solve equation alpha + cos(alpha) - 1/2",
     "output_type": "error",
     "traceback": [
      "\u001B[1;31m---------------------------------------------------------------------------\u001B[0m",
      "\u001B[1;31mNotImplementedError\u001B[0m                       Traceback (most recent call last)",
      "Input \u001B[1;32mIn [8]\u001B[0m, in \u001B[0;36m<cell line: 1>\u001B[1;34m()\u001B[0m\n\u001B[1;32m----> 1\u001B[0m \u001B[43msolve\u001B[49m\u001B[43m(\u001B[49m\u001B[43malpha\u001B[49m\u001B[38;5;241;43m+\u001B[39;49m\u001B[43mcos\u001B[49m\u001B[43m(\u001B[49m\u001B[43malpha\u001B[49m\u001B[43m)\u001B[49m\u001B[38;5;241;43m-\u001B[39;49m\u001B[38;5;241;43m0.5\u001B[39;49m\u001B[43m,\u001B[49m\u001B[43malpha\u001B[49m\u001B[43m)\u001B[49m\n",
      "File \u001B[1;32mC:\\Miniconda3\\envs\\simulator\\lib\\site-packages\\sympy\\solvers\\solvers.py:1106\u001B[0m, in \u001B[0;36msolve\u001B[1;34m(f, *symbols, **flags)\u001B[0m\n\u001B[0;32m   1102\u001B[0m \u001B[38;5;66;03m#\u001B[39;00m\n\u001B[0;32m   1103\u001B[0m \u001B[38;5;66;03m# try to get a solution\u001B[39;00m\n\u001B[0;32m   1104\u001B[0m \u001B[38;5;66;03m###########################################################################\u001B[39;00m\n\u001B[0;32m   1105\u001B[0m \u001B[38;5;28;01mif\u001B[39;00m bare_f:\n\u001B[1;32m-> 1106\u001B[0m     solution \u001B[38;5;241m=\u001B[39m _solve(f[\u001B[38;5;241m0\u001B[39m], \u001B[38;5;241m*\u001B[39msymbols, \u001B[38;5;241m*\u001B[39m\u001B[38;5;241m*\u001B[39mflags)\n\u001B[0;32m   1107\u001B[0m \u001B[38;5;28;01melse\u001B[39;00m:\n\u001B[0;32m   1108\u001B[0m     solution \u001B[38;5;241m=\u001B[39m _solve_system(f, symbols, \u001B[38;5;241m*\u001B[39m\u001B[38;5;241m*\u001B[39mflags)\n",
      "File \u001B[1;32mC:\\Miniconda3\\envs\\simulator\\lib\\site-packages\\sympy\\solvers\\solvers.py:1720\u001B[0m, in \u001B[0;36m_solve\u001B[1;34m(f, *symbols, **flags)\u001B[0m\n\u001B[0;32m   1717\u001B[0m \u001B[38;5;66;03m# ----------- end of fallback ----------------------------\u001B[39;00m\n\u001B[0;32m   1719\u001B[0m \u001B[38;5;28;01mif\u001B[39;00m result \u001B[38;5;129;01mis\u001B[39;00m \u001B[38;5;28;01mFalse\u001B[39;00m:\n\u001B[1;32m-> 1720\u001B[0m     \u001B[38;5;28;01mraise\u001B[39;00m \u001B[38;5;167;01mNotImplementedError\u001B[39;00m(\u001B[38;5;124m'\u001B[39m\u001B[38;5;130;01m\\n\u001B[39;00m\u001B[38;5;124m'\u001B[39m\u001B[38;5;241m.\u001B[39mjoin([msg, not_impl_msg \u001B[38;5;241m%\u001B[39m f]))\n\u001B[0;32m   1722\u001B[0m \u001B[38;5;28;01mif\u001B[39;00m flags\u001B[38;5;241m.\u001B[39mget(\u001B[38;5;124m'\u001B[39m\u001B[38;5;124msimplify\u001B[39m\u001B[38;5;124m'\u001B[39m, \u001B[38;5;28;01mTrue\u001B[39;00m):\n\u001B[0;32m   1723\u001B[0m     result \u001B[38;5;241m=\u001B[39m \u001B[38;5;28mlist\u001B[39m(\u001B[38;5;28mmap\u001B[39m(simplify, result))\n",
      "\u001B[1;31mNotImplementedError\u001B[0m: multiple generators [alpha, cos(alpha)]\nNo algorithms are implemented to solve equation alpha + cos(alpha) - 1/2"
     ]
    }
   ],
   "source": [
    "solve(alpha + cos(alpha) - 0.5, alpha)"
   ],
   "metadata": {
    "collapsed": false,
    "pycharm": {
     "name": "#%%\n"
    }
   }
  },
  {
   "cell_type": "code",
   "execution_count": 9,
   "outputs": [],
   "source": [
    "from scipy.optimize import fsolve"
   ],
   "metadata": {
    "collapsed": false,
    "pycharm": {
     "name": "#%%\n"
    }
   }
  },
  {
   "cell_type": "code",
   "execution_count": 10,
   "outputs": [],
   "source": [
    "import numpy as np"
   ],
   "metadata": {
    "collapsed": false,
    "pycharm": {
     "name": "#%%\n"
    }
   }
  },
  {
   "cell_type": "code",
   "execution_count": 16,
   "outputs": [],
   "source": [
    "def func(x):\n",
    "    return x + np.cos(x) - 0.5"
   ],
   "metadata": {
    "collapsed": false,
    "pycharm": {
     "name": "#%%\n"
    }
   }
  },
  {
   "cell_type": "code",
   "execution_count": 17,
   "outputs": [],
   "source": [
    "root = fsolve(func, -0.5)"
   ],
   "metadata": {
    "collapsed": false,
    "pycharm": {
     "name": "#%%\n"
    }
   }
  },
  {
   "cell_type": "code",
   "execution_count": 18,
   "outputs": [
    {
     "data": {
      "text/plain": "array([-0.41508289])"
     },
     "execution_count": 18,
     "metadata": {},
     "output_type": "execute_result"
    }
   ],
   "source": [
    "root"
   ],
   "metadata": {
    "collapsed": false,
    "pycharm": {
     "name": "#%%\n"
    }
   }
  },
  {
   "cell_type": "code",
   "execution_count": 15,
   "outputs": [
    {
     "data": {
      "text/plain": "0.49740395925452296"
     },
     "execution_count": 15,
     "metadata": {},
     "output_type": "execute_result"
    }
   ],
   "source": [
    "0.25 + np.sin(0.25)"
   ],
   "metadata": {
    "collapsed": false,
    "pycharm": {
     "name": "#%%\n"
    }
   }
  },
  {
   "cell_type": "code",
   "execution_count": 165,
   "outputs": [],
   "source": [
    "D = 100 * 1e-3\n",
    "d = 16 * 1e-3\n",
    "f = 0.1\n",
    "w_p = f * (np.pi * D + np.pi * d)\n",
    "\n",
    "\n",
    "def func(x):\n",
    "    return d * np.cos((w_p - D * x) / d) - D * np.cos(x) + D - d\n",
    "\n"
   ],
   "metadata": {
    "collapsed": false,
    "pycharm": {
     "name": "#%%\n"
    }
   }
  },
  {
   "cell_type": "code",
   "execution_count": 170,
   "outputs": [],
   "source": [
    "root = fsolve(func, 0.4)"
   ],
   "metadata": {
    "collapsed": false,
    "pycharm": {
     "name": "#%%\n"
    }
   }
  },
  {
   "cell_type": "code",
   "execution_count": 171,
   "outputs": [
    {
     "data": {
      "text/plain": "array([0.25916179])"
     },
     "execution_count": 171,
     "metadata": {},
     "output_type": "execute_result"
    }
   ],
   "source": [
    "root"
   ],
   "metadata": {
    "collapsed": false,
    "pycharm": {
     "name": "#%%\n"
    }
   }
  },
  {
   "cell_type": "code",
   "execution_count": null,
   "outputs": [],
   "source": [],
   "metadata": {
    "collapsed": false,
    "pycharm": {
     "name": "#%%\n"
    }
   }
  },
  {
   "cell_type": "code",
   "execution_count": null,
   "outputs": [],
   "source": [],
   "metadata": {
    "collapsed": false,
    "pycharm": {
     "name": "#%%\n"
    }
   }
  },
  {
   "cell_type": "code",
   "execution_count": null,
   "outputs": [],
   "source": [],
   "metadata": {
    "collapsed": false,
    "pycharm": {
     "name": "#%%\n"
    }
   }
  },
  {
   "cell_type": "code",
   "execution_count": null,
   "outputs": [],
   "source": [],
   "metadata": {
    "collapsed": false,
    "pycharm": {
     "name": "#%%\n"
    }
   }
  },
  {
   "cell_type": "code",
   "execution_count": 217,
   "outputs": [
    {
     "data": {
      "text/plain": "0.0006100617114797054"
     },
     "execution_count": 217,
     "metadata": {},
     "output_type": "execute_result"
    }
   ],
   "source": [
    "#limit case\n",
    "h_2 = 0.016\n",
    "alpha = np.arccos(1 - 2 * h_2 / D)\n",
    "a = np.pi * np.power(h_2, 2) / 4\n",
    "A = (np.power(D, 2) / 4) * (alpha - np.sin(2 * alpha) / 2)\n",
    "A - a"
   ],
   "metadata": {
    "collapsed": false,
    "pycharm": {
     "name": "#%%\n"
    }
   }
  },
  {
   "cell_type": "code",
   "execution_count": 217,
   "outputs": [],
   "source": [],
   "metadata": {
    "collapsed": false,
    "pycharm": {
     "name": "#%%\n"
    }
   }
  },
  {
   "cell_type": "code",
   "execution_count": 215,
   "outputs": [],
   "source": [
    "D = 0.100\n",
    "p = D * np.pi\n",
    "p_w = 0.2 * p\n",
    "alpha = p_w / D\n",
    "A = (np.power(D, 2) / 4) * (alpha - np.sin(2 * alpha) / 2)\n",
    "h_1 = D / 2 * (1 - np.cos(alpha))"
   ],
   "metadata": {
    "collapsed": false,
    "pycharm": {
     "name": "#%%\n"
    }
   }
  },
  {
   "cell_type": "code",
   "execution_count": 218,
   "outputs": [
    {
     "data": {
      "text/plain": "0.009549150281252628"
     },
     "execution_count": 218,
     "metadata": {},
     "output_type": "execute_result"
    }
   ],
   "source": [
    "h_1"
   ],
   "metadata": {
    "collapsed": false,
    "pycharm": {
     "name": "#%%\n"
    }
   }
  },
  {
   "cell_type": "code",
   "execution_count": 214,
   "outputs": [
    {
     "name": "stderr",
     "output_type": "stream",
     "text": [
      "C:\\Miniconda3\\envs\\simulator\\lib\\site-packages\\scipy\\optimize\\_minpack_py.py:175: RuntimeWarning: The iteration is not making good progress, as measured by the \n",
      "  improvement from the last ten iterations.\n",
      "  warnings.warn(msg, RuntimeWarning)\n"
     ]
    },
    {
     "data": {
      "text/plain": "array([0.5])"
     },
     "execution_count": 214,
     "metadata": {},
     "output_type": "execute_result"
    }
   ],
   "source": [
    "def func(x):\n",
    "    x-np.sin(2*x)/2-4*A/np.power(D,2)\n",
    "\n",
    "root = fsolve(func, 0.5)\n",
    "root"
   ],
   "metadata": {
    "collapsed": false,
    "pycharm": {
     "name": "#%%\n"
    }
   }
  },
  {
   "cell_type": "code",
   "execution_count": null,
   "outputs": [],
   "source": [],
   "metadata": {
    "collapsed": false,
    "pycharm": {
     "name": "#%%\n"
    }
   }
  },
  {
   "cell_type": "code",
   "execution_count": 208,
   "outputs": [],
   "source": [
    "D = 0.100\n",
    "p = D * np.pi\n",
    "p_w = 0.25 * p\n",
    "alpha = p_w / D\n",
    "A = (np.power(D, 2) / 4) * (alpha - np.sin(2 * alpha) / 2)\n",
    "h_1 = D / 2 * (1 - np.cos(alpha))"
   ],
   "metadata": {
    "collapsed": false,
    "pycharm": {
     "name": "#%%\n"
    }
   }
  },
  {
   "cell_type": "code",
   "execution_count": 209,
   "outputs": [
    {
     "data": {
      "text/plain": "0.0007134954084936208"
     },
     "execution_count": 209,
     "metadata": {},
     "output_type": "execute_result"
    }
   ],
   "source": [
    "A"
   ],
   "metadata": {
    "collapsed": false,
    "pycharm": {
     "name": "#%%\n"
    }
   }
  },
  {
   "cell_type": "code",
   "execution_count": null,
   "outputs": [],
   "source": [],
   "metadata": {
    "collapsed": false,
    "pycharm": {
     "name": "#%%\n"
    }
   }
  },
  {
   "cell_type": "code",
   "execution_count": null,
   "outputs": [],
   "source": [],
   "metadata": {
    "collapsed": false,
    "pycharm": {
     "name": "#%%\n"
    }
   }
  },
  {
   "cell_type": "code",
   "execution_count": null,
   "outputs": [],
   "source": [],
   "metadata": {
    "collapsed": false,
    "pycharm": {
     "name": "#%%\n"
    }
   }
  },
  {
   "cell_type": "code",
   "execution_count": null,
   "outputs": [],
   "source": [],
   "metadata": {
    "collapsed": false,
    "pycharm": {
     "name": "#%%\n"
    }
   }
  },
  {
   "cell_type": "code",
   "execution_count": null,
   "outputs": [],
   "source": [],
   "metadata": {
    "collapsed": false,
    "pycharm": {
     "name": "#%%\n"
    }
   }
  }
 ],
 "metadata": {
  "kernelspec": {
   "display_name": "Python 3",
   "language": "python",
   "name": "python3"
  },
  "language_info": {
   "codemirror_mode": {
    "name": "ipython",
    "version": 2
   },
   "file_extension": ".py",
   "mimetype": "text/x-python",
   "name": "python",
   "nbconvert_exporter": "python",
   "pygments_lexer": "ipython2",
   "version": "2.7.6"
  }
 },
 "nbformat": 4,
 "nbformat_minor": 0
}